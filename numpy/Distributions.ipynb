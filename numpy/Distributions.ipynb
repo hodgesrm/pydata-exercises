{
 "cells": [
  {
   "cell_type": "markdown",
   "metadata": {},
   "source": [
    "# Distributions\n",
    "\n",
    "Graphs showing distributions from random values (exponential and normal distributions).  Let's first generate some random data in a numpy array. "
   ]
  },
  {
   "cell_type": "code",
   "execution_count": 2,
   "metadata": {},
   "outputs": [
    {
     "name": "stdout",
     "output_type": "stream",
     "text": [
      "0.49463882614640525 4946.388261464052\n"
     ]
    }
   ],
   "source": [
    "import numpy as np\n",
    "array = np.random.rand(1000,10)\n",
    "print(array.mean(), array.sum())"
   ]
  },
  {
   "cell_type": "code",
   "execution_count": 3,
   "metadata": {},
   "outputs": [
    {
     "data": {
      "text/html": [
       "<div>\n",
       "<style scoped>\n",
       "    .dataframe tbody tr th:only-of-type {\n",
       "        vertical-align: middle;\n",
       "    }\n",
       "\n",
       "    .dataframe tbody tr th {\n",
       "        vertical-align: top;\n",
       "    }\n",
       "\n",
       "    .dataframe thead th {\n",
       "        text-align: right;\n",
       "    }\n",
       "</style>\n",
       "<table border=\"1\" class=\"dataframe\">\n",
       "  <thead>\n",
       "    <tr style=\"text-align: right;\">\n",
       "      <th></th>\n",
       "      <th>0</th>\n",
       "      <th>1</th>\n",
       "      <th>2</th>\n",
       "      <th>3</th>\n",
       "      <th>4</th>\n",
       "      <th>5</th>\n",
       "      <th>6</th>\n",
       "      <th>7</th>\n",
       "      <th>8</th>\n",
       "      <th>9</th>\n",
       "    </tr>\n",
       "  </thead>\n",
       "  <tbody>\n",
       "    <tr>\n",
       "      <th>count</th>\n",
       "      <td>1000.000000</td>\n",
       "      <td>1000.000000</td>\n",
       "      <td>1000.000000</td>\n",
       "      <td>1000.000000</td>\n",
       "      <td>1000.000000</td>\n",
       "      <td>1000.000000</td>\n",
       "      <td>1000.000000</td>\n",
       "      <td>1000.000000</td>\n",
       "      <td>1000.000000</td>\n",
       "      <td>1000.000000</td>\n",
       "    </tr>\n",
       "    <tr>\n",
       "      <th>mean</th>\n",
       "      <td>0.507621</td>\n",
       "      <td>0.502210</td>\n",
       "      <td>0.495758</td>\n",
       "      <td>0.493452</td>\n",
       "      <td>0.493528</td>\n",
       "      <td>0.487222</td>\n",
       "      <td>0.481470</td>\n",
       "      <td>0.495448</td>\n",
       "      <td>0.505877</td>\n",
       "      <td>0.483802</td>\n",
       "    </tr>\n",
       "    <tr>\n",
       "      <th>std</th>\n",
       "      <td>0.288582</td>\n",
       "      <td>0.280877</td>\n",
       "      <td>0.288617</td>\n",
       "      <td>0.289007</td>\n",
       "      <td>0.288124</td>\n",
       "      <td>0.291243</td>\n",
       "      <td>0.288612</td>\n",
       "      <td>0.291877</td>\n",
       "      <td>0.292427</td>\n",
       "      <td>0.289569</td>\n",
       "    </tr>\n",
       "    <tr>\n",
       "      <th>min</th>\n",
       "      <td>0.000613</td>\n",
       "      <td>0.000316</td>\n",
       "      <td>0.001858</td>\n",
       "      <td>0.001367</td>\n",
       "      <td>0.000208</td>\n",
       "      <td>0.000205</td>\n",
       "      <td>0.000556</td>\n",
       "      <td>0.000220</td>\n",
       "      <td>0.001514</td>\n",
       "      <td>0.001077</td>\n",
       "    </tr>\n",
       "    <tr>\n",
       "      <th>25%</th>\n",
       "      <td>0.259064</td>\n",
       "      <td>0.274133</td>\n",
       "      <td>0.243317</td>\n",
       "      <td>0.248141</td>\n",
       "      <td>0.252274</td>\n",
       "      <td>0.236647</td>\n",
       "      <td>0.238001</td>\n",
       "      <td>0.247661</td>\n",
       "      <td>0.248127</td>\n",
       "      <td>0.242803</td>\n",
       "    </tr>\n",
       "    <tr>\n",
       "      <th>50%</th>\n",
       "      <td>0.500026</td>\n",
       "      <td>0.493936</td>\n",
       "      <td>0.492128</td>\n",
       "      <td>0.487235</td>\n",
       "      <td>0.489279</td>\n",
       "      <td>0.476753</td>\n",
       "      <td>0.470835</td>\n",
       "      <td>0.496696</td>\n",
       "      <td>0.501744</td>\n",
       "      <td>0.460349</td>\n",
       "    </tr>\n",
       "    <tr>\n",
       "      <th>75%</th>\n",
       "      <td>0.754062</td>\n",
       "      <td>0.732353</td>\n",
       "      <td>0.757196</td>\n",
       "      <td>0.742786</td>\n",
       "      <td>0.729931</td>\n",
       "      <td>0.733563</td>\n",
       "      <td>0.718648</td>\n",
       "      <td>0.745625</td>\n",
       "      <td>0.764072</td>\n",
       "      <td>0.741372</td>\n",
       "    </tr>\n",
       "    <tr>\n",
       "      <th>max</th>\n",
       "      <td>0.998488</td>\n",
       "      <td>0.999323</td>\n",
       "      <td>0.999276</td>\n",
       "      <td>0.997745</td>\n",
       "      <td>0.999705</td>\n",
       "      <td>0.999614</td>\n",
       "      <td>0.998399</td>\n",
       "      <td>0.999532</td>\n",
       "      <td>0.998564</td>\n",
       "      <td>0.999765</td>\n",
       "    </tr>\n",
       "  </tbody>\n",
       "</table>\n",
       "</div>"
      ],
      "text/plain": [
       "                 0            1            2            3            4  \\\n",
       "count  1000.000000  1000.000000  1000.000000  1000.000000  1000.000000   \n",
       "mean      0.507621     0.502210     0.495758     0.493452     0.493528   \n",
       "std       0.288582     0.280877     0.288617     0.289007     0.288124   \n",
       "min       0.000613     0.000316     0.001858     0.001367     0.000208   \n",
       "25%       0.259064     0.274133     0.243317     0.248141     0.252274   \n",
       "50%       0.500026     0.493936     0.492128     0.487235     0.489279   \n",
       "75%       0.754062     0.732353     0.757196     0.742786     0.729931   \n",
       "max       0.998488     0.999323     0.999276     0.997745     0.999705   \n",
       "\n",
       "                 5            6            7            8            9  \n",
       "count  1000.000000  1000.000000  1000.000000  1000.000000  1000.000000  \n",
       "mean      0.487222     0.481470     0.495448     0.505877     0.483802  \n",
       "std       0.291243     0.288612     0.291877     0.292427     0.289569  \n",
       "min       0.000205     0.000556     0.000220     0.001514     0.001077  \n",
       "25%       0.236647     0.238001     0.247661     0.248127     0.242803  \n",
       "50%       0.476753     0.470835     0.496696     0.501744     0.460349  \n",
       "75%       0.733563     0.718648     0.745625     0.764072     0.741372  \n",
       "max       0.999614     0.998399     0.999532     0.998564     0.999765  "
      ]
     },
     "execution_count": 3,
     "metadata": {},
     "output_type": "execute_result"
    }
   ],
   "source": [
    "import pandas as pd\n",
    "df = pd.DataFrame(array)\n",
    "df.describe()"
   ]
  },
  {
   "cell_type": "markdown",
   "metadata": {},
   "source": [
    "Pandas sum function will add up across rows. The sum values approach a normal distribution because the sum is based on random underlying distributions. (Central Limit Theorem)"
   ]
  },
  {
   "cell_type": "code",
   "execution_count": 4,
   "metadata": {},
   "outputs": [
    {
     "data": {
      "text/plain": [
       "count    1000.000000\n",
       "mean        4.946388\n",
       "std         0.917599\n",
       "min         1.946609\n",
       "25%         4.315829\n",
       "50%         4.919926\n",
       "75%         5.568603\n",
       "max         7.975874\n",
       "dtype: float64"
      ]
     },
     "execution_count": 4,
     "metadata": {},
     "output_type": "execute_result"
    }
   ],
   "source": [
    "sum = df.sum(axis=1)\n",
    "sum.describe()"
   ]
  },
  {
   "cell_type": "code",
   "execution_count": 5,
   "metadata": {},
   "outputs": [
    {
     "data": {
      "text/plain": [
       "995    2.907655\n",
       "996    4.913944\n",
       "997    2.721153\n",
       "998    3.413097\n",
       "999    3.407609\n",
       "dtype: float64"
      ]
     },
     "execution_count": 5,
     "metadata": {},
     "output_type": "execute_result"
    }
   ],
   "source": [
    "sum.tail()"
   ]
  },
  {
   "cell_type": "markdown",
   "metadata": {},
   "source": [
    "Let's now create another series that multiples all row values. This should end up as a log normal distribution, since we are multiplying series of randomly distributed values.  There does not seem to be a pandas function for multiplying rows akin to sum() so we have to do it ourselves. "
   ]
  },
  {
   "cell_type": "code",
   "execution_count": 6,
   "metadata": {},
   "outputs": [
    {
     "data": {
      "text/plain": [
       "count    1000.000000\n",
       "mean        0.507621\n",
       "std         0.288582\n",
       "min         0.000613\n",
       "25%         0.259064\n",
       "50%         0.500026\n",
       "75%         0.754062\n",
       "max         0.998488\n",
       "Name: 0, dtype: float64"
      ]
     },
     "execution_count": 6,
     "metadata": {},
     "output_type": "execute_result"
    }
   ],
   "source": [
    "product = df[df.columns[0]].copy()\n",
    "product.describe()"
   ]
  },
  {
   "cell_type": "code",
   "execution_count": 7,
   "metadata": {},
   "outputs": [
    {
     "data": {
      "text/plain": [
       "count    1.000000e+03\n",
       "mean     9.604468e-04\n",
       "std      4.257752e-03\n",
       "min      5.194498e-11\n",
       "25%      5.132359e-06\n",
       "50%      5.776464e-05\n",
       "75%      3.764205e-04\n",
       "max      8.077791e-02\n",
       "Name: 0, dtype: float64"
      ]
     },
     "execution_count": 7,
     "metadata": {},
     "output_type": "execute_result"
    }
   ],
   "source": [
    "for col in df.columns[1:]:\n",
    "    product *= df[col]\n",
    "product.describe()"
   ]
  },
  {
   "cell_type": "code",
   "execution_count": 8,
   "metadata": {},
   "outputs": [
    {
     "data": {
      "text/html": [
       "<div>\n",
       "<style scoped>\n",
       "    .dataframe tbody tr th:only-of-type {\n",
       "        vertical-align: middle;\n",
       "    }\n",
       "\n",
       "    .dataframe tbody tr th {\n",
       "        vertical-align: top;\n",
       "    }\n",
       "\n",
       "    .dataframe thead th {\n",
       "        text-align: right;\n",
       "    }\n",
       "</style>\n",
       "<table border=\"1\" class=\"dataframe\">\n",
       "  <thead>\n",
       "    <tr style=\"text-align: right;\">\n",
       "      <th></th>\n",
       "      <th>0</th>\n",
       "      <th>1</th>\n",
       "      <th>2</th>\n",
       "      <th>3</th>\n",
       "      <th>4</th>\n",
       "      <th>5</th>\n",
       "      <th>6</th>\n",
       "      <th>7</th>\n",
       "      <th>8</th>\n",
       "      <th>9</th>\n",
       "      <th>sum</th>\n",
       "      <th>product</th>\n",
       "    </tr>\n",
       "  </thead>\n",
       "  <tbody>\n",
       "    <tr>\n",
       "      <th>count</th>\n",
       "      <td>1000.000000</td>\n",
       "      <td>1000.000000</td>\n",
       "      <td>1000.000000</td>\n",
       "      <td>1000.000000</td>\n",
       "      <td>1000.000000</td>\n",
       "      <td>1000.000000</td>\n",
       "      <td>1000.000000</td>\n",
       "      <td>1000.000000</td>\n",
       "      <td>1000.000000</td>\n",
       "      <td>1000.000000</td>\n",
       "      <td>1000.000000</td>\n",
       "      <td>1.000000e+03</td>\n",
       "    </tr>\n",
       "    <tr>\n",
       "      <th>mean</th>\n",
       "      <td>0.507621</td>\n",
       "      <td>0.502210</td>\n",
       "      <td>0.495758</td>\n",
       "      <td>0.493452</td>\n",
       "      <td>0.493528</td>\n",
       "      <td>0.487222</td>\n",
       "      <td>0.481470</td>\n",
       "      <td>0.495448</td>\n",
       "      <td>0.505877</td>\n",
       "      <td>0.483802</td>\n",
       "      <td>4.946388</td>\n",
       "      <td>9.604468e-04</td>\n",
       "    </tr>\n",
       "    <tr>\n",
       "      <th>std</th>\n",
       "      <td>0.288582</td>\n",
       "      <td>0.280877</td>\n",
       "      <td>0.288617</td>\n",
       "      <td>0.289007</td>\n",
       "      <td>0.288124</td>\n",
       "      <td>0.291243</td>\n",
       "      <td>0.288612</td>\n",
       "      <td>0.291877</td>\n",
       "      <td>0.292427</td>\n",
       "      <td>0.289569</td>\n",
       "      <td>0.917599</td>\n",
       "      <td>4.257752e-03</td>\n",
       "    </tr>\n",
       "    <tr>\n",
       "      <th>min</th>\n",
       "      <td>0.000613</td>\n",
       "      <td>0.000316</td>\n",
       "      <td>0.001858</td>\n",
       "      <td>0.001367</td>\n",
       "      <td>0.000208</td>\n",
       "      <td>0.000205</td>\n",
       "      <td>0.000556</td>\n",
       "      <td>0.000220</td>\n",
       "      <td>0.001514</td>\n",
       "      <td>0.001077</td>\n",
       "      <td>1.946609</td>\n",
       "      <td>5.194498e-11</td>\n",
       "    </tr>\n",
       "    <tr>\n",
       "      <th>25%</th>\n",
       "      <td>0.259064</td>\n",
       "      <td>0.274133</td>\n",
       "      <td>0.243317</td>\n",
       "      <td>0.248141</td>\n",
       "      <td>0.252274</td>\n",
       "      <td>0.236647</td>\n",
       "      <td>0.238001</td>\n",
       "      <td>0.247661</td>\n",
       "      <td>0.248127</td>\n",
       "      <td>0.242803</td>\n",
       "      <td>4.315829</td>\n",
       "      <td>5.132359e-06</td>\n",
       "    </tr>\n",
       "    <tr>\n",
       "      <th>50%</th>\n",
       "      <td>0.500026</td>\n",
       "      <td>0.493936</td>\n",
       "      <td>0.492128</td>\n",
       "      <td>0.487235</td>\n",
       "      <td>0.489279</td>\n",
       "      <td>0.476753</td>\n",
       "      <td>0.470835</td>\n",
       "      <td>0.496696</td>\n",
       "      <td>0.501744</td>\n",
       "      <td>0.460349</td>\n",
       "      <td>4.919926</td>\n",
       "      <td>5.776464e-05</td>\n",
       "    </tr>\n",
       "    <tr>\n",
       "      <th>75%</th>\n",
       "      <td>0.754062</td>\n",
       "      <td>0.732353</td>\n",
       "      <td>0.757196</td>\n",
       "      <td>0.742786</td>\n",
       "      <td>0.729931</td>\n",
       "      <td>0.733563</td>\n",
       "      <td>0.718648</td>\n",
       "      <td>0.745625</td>\n",
       "      <td>0.764072</td>\n",
       "      <td>0.741372</td>\n",
       "      <td>5.568603</td>\n",
       "      <td>3.764205e-04</td>\n",
       "    </tr>\n",
       "    <tr>\n",
       "      <th>max</th>\n",
       "      <td>0.998488</td>\n",
       "      <td>0.999323</td>\n",
       "      <td>0.999276</td>\n",
       "      <td>0.997745</td>\n",
       "      <td>0.999705</td>\n",
       "      <td>0.999614</td>\n",
       "      <td>0.998399</td>\n",
       "      <td>0.999532</td>\n",
       "      <td>0.998564</td>\n",
       "      <td>0.999765</td>\n",
       "      <td>7.975874</td>\n",
       "      <td>8.077791e-02</td>\n",
       "    </tr>\n",
       "  </tbody>\n",
       "</table>\n",
       "</div>"
      ],
      "text/plain": [
       "                 0            1            2            3            4  \\\n",
       "count  1000.000000  1000.000000  1000.000000  1000.000000  1000.000000   \n",
       "mean      0.507621     0.502210     0.495758     0.493452     0.493528   \n",
       "std       0.288582     0.280877     0.288617     0.289007     0.288124   \n",
       "min       0.000613     0.000316     0.001858     0.001367     0.000208   \n",
       "25%       0.259064     0.274133     0.243317     0.248141     0.252274   \n",
       "50%       0.500026     0.493936     0.492128     0.487235     0.489279   \n",
       "75%       0.754062     0.732353     0.757196     0.742786     0.729931   \n",
       "max       0.998488     0.999323     0.999276     0.997745     0.999705   \n",
       "\n",
       "                 5            6            7            8            9  \\\n",
       "count  1000.000000  1000.000000  1000.000000  1000.000000  1000.000000   \n",
       "mean      0.487222     0.481470     0.495448     0.505877     0.483802   \n",
       "std       0.291243     0.288612     0.291877     0.292427     0.289569   \n",
       "min       0.000205     0.000556     0.000220     0.001514     0.001077   \n",
       "25%       0.236647     0.238001     0.247661     0.248127     0.242803   \n",
       "50%       0.476753     0.470835     0.496696     0.501744     0.460349   \n",
       "75%       0.733563     0.718648     0.745625     0.764072     0.741372   \n",
       "max       0.999614     0.998399     0.999532     0.998564     0.999765   \n",
       "\n",
       "               sum       product  \n",
       "count  1000.000000  1.000000e+03  \n",
       "mean      4.946388  9.604468e-04  \n",
       "std       0.917599  4.257752e-03  \n",
       "min       1.946609  5.194498e-11  \n",
       "25%       4.315829  5.132359e-06  \n",
       "50%       4.919926  5.776464e-05  \n",
       "75%       5.568603  3.764205e-04  \n",
       "max       7.975874  8.077791e-02  "
      ]
     },
     "execution_count": 8,
     "metadata": {},
     "output_type": "execute_result"
    }
   ],
   "source": [
    "df['sum'] = sum\n",
    "df['product'] = product\n",
    "df.describe()"
   ]
  },
  {
   "cell_type": "code",
   "execution_count": 9,
   "metadata": {},
   "outputs": [
    {
     "data": {
      "text/html": [
       "<div>\n",
       "<style scoped>\n",
       "    .dataframe tbody tr th:only-of-type {\n",
       "        vertical-align: middle;\n",
       "    }\n",
       "\n",
       "    .dataframe tbody tr th {\n",
       "        vertical-align: top;\n",
       "    }\n",
       "\n",
       "    .dataframe thead th {\n",
       "        text-align: right;\n",
       "    }\n",
       "</style>\n",
       "<table border=\"1\" class=\"dataframe\">\n",
       "  <thead>\n",
       "    <tr style=\"text-align: right;\">\n",
       "      <th></th>\n",
       "      <th>0</th>\n",
       "      <th>1</th>\n",
       "      <th>2</th>\n",
       "      <th>3</th>\n",
       "      <th>4</th>\n",
       "      <th>5</th>\n",
       "      <th>6</th>\n",
       "      <th>7</th>\n",
       "      <th>8</th>\n",
       "      <th>9</th>\n",
       "      <th>sum</th>\n",
       "      <th>product</th>\n",
       "    </tr>\n",
       "  </thead>\n",
       "  <tbody>\n",
       "    <tr>\n",
       "      <th>995</th>\n",
       "      <td>0.532136</td>\n",
       "      <td>0.630477</td>\n",
       "      <td>0.078281</td>\n",
       "      <td>0.853644</td>\n",
       "      <td>0.413846</td>\n",
       "      <td>0.039532</td>\n",
       "      <td>0.010395</td>\n",
       "      <td>0.031577</td>\n",
       "      <td>0.217447</td>\n",
       "      <td>0.100320</td>\n",
       "      <td>2.907655</td>\n",
       "      <td>2.626396e-09</td>\n",
       "    </tr>\n",
       "    <tr>\n",
       "      <th>996</th>\n",
       "      <td>0.237874</td>\n",
       "      <td>0.871379</td>\n",
       "      <td>0.970640</td>\n",
       "      <td>0.118128</td>\n",
       "      <td>0.277902</td>\n",
       "      <td>0.061225</td>\n",
       "      <td>0.374241</td>\n",
       "      <td>0.603287</td>\n",
       "      <td>0.902486</td>\n",
       "      <td>0.496782</td>\n",
       "      <td>4.913944</td>\n",
       "      <td>4.093252e-05</td>\n",
       "    </tr>\n",
       "    <tr>\n",
       "      <th>997</th>\n",
       "      <td>0.759189</td>\n",
       "      <td>0.345416</td>\n",
       "      <td>0.271734</td>\n",
       "      <td>0.522979</td>\n",
       "      <td>0.039274</td>\n",
       "      <td>0.155079</td>\n",
       "      <td>0.298111</td>\n",
       "      <td>0.250849</td>\n",
       "      <td>0.040164</td>\n",
       "      <td>0.038358</td>\n",
       "      <td>2.721153</td>\n",
       "      <td>2.614903e-08</td>\n",
       "    </tr>\n",
       "    <tr>\n",
       "      <th>998</th>\n",
       "      <td>0.163301</td>\n",
       "      <td>0.572931</td>\n",
       "      <td>0.304730</td>\n",
       "      <td>0.260644</td>\n",
       "      <td>0.762432</td>\n",
       "      <td>0.143651</td>\n",
       "      <td>0.152378</td>\n",
       "      <td>0.284370</td>\n",
       "      <td>0.012940</td>\n",
       "      <td>0.755720</td>\n",
       "      <td>3.413097</td>\n",
       "      <td>3.448709e-07</td>\n",
       "    </tr>\n",
       "    <tr>\n",
       "      <th>999</th>\n",
       "      <td>0.079609</td>\n",
       "      <td>0.458640</td>\n",
       "      <td>0.510821</td>\n",
       "      <td>0.626569</td>\n",
       "      <td>0.220200</td>\n",
       "      <td>0.442272</td>\n",
       "      <td>0.108296</td>\n",
       "      <td>0.641773</td>\n",
       "      <td>0.037173</td>\n",
       "      <td>0.282255</td>\n",
       "      <td>3.407609</td>\n",
       "      <td>8.299373e-07</td>\n",
       "    </tr>\n",
       "  </tbody>\n",
       "</table>\n",
       "</div>"
      ],
      "text/plain": [
       "            0         1         2         3         4         5         6  \\\n",
       "995  0.532136  0.630477  0.078281  0.853644  0.413846  0.039532  0.010395   \n",
       "996  0.237874  0.871379  0.970640  0.118128  0.277902  0.061225  0.374241   \n",
       "997  0.759189  0.345416  0.271734  0.522979  0.039274  0.155079  0.298111   \n",
       "998  0.163301  0.572931  0.304730  0.260644  0.762432  0.143651  0.152378   \n",
       "999  0.079609  0.458640  0.510821  0.626569  0.220200  0.442272  0.108296   \n",
       "\n",
       "            7         8         9       sum       product  \n",
       "995  0.031577  0.217447  0.100320  2.907655  2.626396e-09  \n",
       "996  0.603287  0.902486  0.496782  4.913944  4.093252e-05  \n",
       "997  0.250849  0.040164  0.038358  2.721153  2.614903e-08  \n",
       "998  0.284370  0.012940  0.755720  3.413097  3.448709e-07  \n",
       "999  0.641773  0.037173  0.282255  3.407609  8.299373e-07  "
      ]
     },
     "execution_count": 9,
     "metadata": {},
     "output_type": "execute_result"
    }
   ],
   "source": [
    "df.tail()"
   ]
  },
  {
   "cell_type": "code",
   "execution_count": 11,
   "metadata": {},
   "outputs": [
    {
     "data": {
      "image/png": "[encoded data removed]",
      "text/plain": [
       "<Figure size 432x288 with 1 Axes>"
      ]
     },
     "metadata": {
      "needs_background": "light"
     },
     "output_type": "display_data"
    }
   ],
   "source": [
    "import matplotlib.pyplot as plt\n",
    "# Display figures inline. \n",
    "%matplotlib inline\n",
    "df.hist(bins=100, column=\"sum\")\n",
    "plt.show()"
   ]
  },
  {
   "cell_type": "code",
   "execution_count": 18,
   "metadata": {},
   "outputs": [
    {
     "data": {
      "image/png": "[encoded data removed]",
      "text/plain": [
       "<Figure size 432x288 with 1 Axes>"
      ]
     },
     "metadata": {
      "needs_background": "light"
     },
     "output_type": "display_data"
    }
   ],
   "source": [
    "import matplotlib.pyplot as plt\n",
    "df.hist(bins=100, column=\"product\")\n",
    "plt.ylim(top=200)\n",
    "plt.show()"
   ]
  },
  {
   "cell_type": "code",
   "execution_count": 19,
   "metadata": {},
   "outputs": [
    {
     "data": {
      "text/plain": [
       "<matplotlib.axes._subplots.AxesSubplot at 0x7f28ab467550>"
      ]
     },
     "execution_count": 19,
     "metadata": {},
     "output_type": "execute_result"
    },
    {
     "data": {
      "image/png": "[encoded data removed]",
      "text/plain": [
       "<Figure size 432x288 with 1 Axes>"
      ]
     },
     "metadata": {
      "needs_background": "light"
     },
     "output_type": "display_data"
    }
   ],
   "source": [
    "import seaborn as sns\n",
    "plt.ylim(top=200)\n",
    "sns.distplot(df[\"product\"])"
   ]
  },
  {
   "cell_type": "code",
   "execution_count": 14,
   "metadata": {},
   "outputs": [
    {
     "data": {
      "text/plain": [
       "<matplotlib.axes._subplots.AxesSubplot at 0x7f28ad886198>"
      ]
     },
     "execution_count": 14,
     "metadata": {},
     "output_type": "execute_result"
    },
    {
     "data": {
      "image/png": "[encoded data removed]",
      "text/plain": [
       "<Figure size 432x288 with 1 Axes>"
      ]
     },
     "metadata": {
      "needs_background": "light"
     },
     "output_type": "display_data"
    }
   ],
   "source": [
    "sns.distplot(df[\"sum\"])"
   ]
  },
  {
   "cell_type": "code",
   "execution_count": null,
   "metadata": {},
   "outputs": [],
   "source": []
  },
  {
   "cell_type": "code",
   "execution_count": null,
   "metadata": {},
   "outputs": [],
   "source": []
  }
 ],
 "metadata": {
  "kernelspec": {
   "display_name": "Python 3",
   "language": "python",
   "name": "python3"
  },
  "language_info": {
   "codemirror_mode": {
    "name": "ipython",
    "version": 3
   },
   "file_extension": ".py",
   "mimetype": "text/x-python",
   "name": "python",
   "nbconvert_exporter": "python",
   "pygments_lexer": "ipython3",
   "version": "3.7.3"
  }
 },
 "nbformat": 4,
 "nbformat_minor": 4
}
